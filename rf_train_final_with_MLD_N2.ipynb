{
 "cells": [
  {
   "cell_type": "code",
   "execution_count": 1,
   "metadata": {
    "scrolled": true
   },
   "outputs": [],
   "source": [
    "import xarray as xr\n",
    "import matplotlib.pyplot as plt\n",
    "import numpy as np\n",
    "import os\n",
    "import pickle\n",
    "\n",
    "import pandas as pd\n",
    "from sklearn.model_selection import train_test_split\n",
    "from sklearn.ensemble import RandomForestRegressor\n",
    "from sklearn.metrics import r2_score,mean_squared_error,mean_absolute_error\n",
    "import seaborn as sns\n",
    "from sklearn.preprocessing import StandardScaler\n",
    "from sklearn import linear_model\n",
    "\n",
    "import cmocean\n",
    "import matplotlib.colors as colors\n",
    "from mpl_toolkits.axes_grid1 import make_axes_locatable\n",
    "\n",
    "\n",
    "class MidpointNormalize(colors.Normalize):\n",
    "    def __init__(self, vmin=None, vmax=None, vcenter=None, clip=False):\n",
    "        self.vcenter = vcenter\n",
    "        colors.Normalize.__init__(self, vmin, vmax, clip)\n",
    "\n",
    "    def __call__(self, value, clip=None):\n",
    "        # I'm ignoring masked values and all kinds of edge cases to make a\n",
    "        # simple example...\n",
    "        x, y = [self.vmin, self.vcenter, self.vmax], [0, 0.5, 1]\n",
    "        return np.ma.masked_array(np.interp(value, x, y))\n",
    "\n",
    "    \n",
    "from warnings import simplefilter\n",
    "# ignore all future warnings\n",
    "simplefilter(action='ignore', category=FutureWarning)"
   ]
  },
  {
   "cell_type": "code",
   "execution_count": 2,
   "metadata": {},
   "outputs": [],
   "source": [
    "zc=np.array([-481.68085,-446.76865,-414.0377,-383.35178,-354.58304,-327.6118,-302.32565,-278.61935,\n",
    "                           -256.39423,-235.5577,-216.02301,-197.70883,-180.5389,-164.44174,-149.3503,-135.20177,\n",
    "                           -121.937225,-109.50143,-97.84261,-86.91223,-76.664764,-67.05755,-58.050587,-49.60637,\n",
    "                           -41.689735,-34.267727,-27.309437,-20.785896,-14.669938,-8.9361,-3.5605056,-0.5])"
   ]
  },
  {
   "cell_type": "markdown",
   "metadata": {},
   "source": [
    "## train one RF for each depth"
   ]
  },
  {
   "cell_type": "code",
   "execution_count": 3,
   "metadata": {},
   "outputs": [],
   "source": [
    "def train_rf_mlr(x_train,y_train,random_state=0):\n",
    "    \"\"\"\n",
    "    x_train (arr): input, size (n_samples, n_features)\n",
    "    y_train (arr): output, size (n_samples, 2). 1st column is true output, other columns are baseline\n",
    "    \"\"\"\n",
    "    RandomForestRegModel = RandomForestRegressor(random_state=random_state)\n",
    "    RandomForestRegModel.fit(x_train,y_train[:,0])\n",
    "    \n",
    "    mlr_model = linear_model.LinearRegression()\n",
    "    mlr_model.fit(x_train, y_train[:,0])\n",
    "\n",
    "    return RandomForestRegModel, mlr_model"
   ]
  },
  {
   "cell_type": "code",
   "execution_count": 4,
   "metadata": {},
   "outputs": [],
   "source": [
    "def test_rf_mlr(x_test, y_test,rf_model, mlr_model):\n",
    "    \"\"\"\n",
    "    x_test (arr): size (n_samples, n_features)\n",
    "    y_test (arr): size (n_samples, 2) 1st column is true output, other columns are baseline\n",
    "    \"\"\"\n",
    "    # evaluation on test set\n",
    "    rf_pred = rf_model.predict(x_test)\n",
    "    rf_test_mse = mean_squared_error(y_test[:,0],rf_pred)\n",
    "    \n",
    "    mlr_pred = mlr_model.predict(np.squeeze(x_test))\n",
    "    mlr_test_mse = mean_squared_error(y_test[:,0],mlr_pred)\n",
    "    \n",
    "    w_rms_test=(np.sum(y_test[:,0]**2)/len(rf_pred))**0.5\n",
    "    \n",
    "    # divergence baseline: \n",
    "    div_test_mse = mean_squared_error(y_test[:,0],y_test[:,1])\n",
    "\n",
    "    return rf_test_mse, mlr_test_mse, div_test_mse, w_rms_test "
   ]
  },
  {
   "cell_type": "code",
   "execution_count": 7,
   "metadata": {},
   "outputs": [],
   "source": [
    "# compile training data\n",
    "#with open(datadir,'rb') as f:\n",
    "#    x,y = pickle.load(f)\n",
    "    \n",
    "res = 1\n",
    "datadir1 = 'training_samples_mld_N2_1km/grad_rho_day10.pkl'\n",
    "#datadir2 = 'training_samples_mld_N2_%ikm/day5.pkl'%res\n",
    "#datadir3 = 'training_samples_mld_N2_%ikm/day15.pkl'%res\n",
    "\n",
    "with open(datadir1,'rb') as f:\n",
    "    x1,y1 = pickle.load(f)\n",
    "#with open(datadir2,'rb') as f:\n",
    "#    x2,y2 = pickle.load(f)\n",
    "#with open(datadir3,'rb') as f:\n",
    "#    x3,y3 = pickle.load(f)\n",
    "    \n",
    "x0 = x1[:,:8]\n",
    "y0 = y1#np.vstack((y1,y2,y3))"
   ]
  },
  {
   "cell_type": "code",
   "execution_count": 8,
   "metadata": {},
   "outputs": [
    {
     "name": "stdout",
     "output_type": "stream",
     "text": [
      "(127395, 8, 1)\n"
     ]
    }
   ],
   "source": [
    "print(x0.shape)"
   ]
  },
  {
   "cell_type": "code",
   "execution_count": 9,
   "metadata": {},
   "outputs": [
    {
     "name": "stdout",
     "output_type": "stream",
     "text": [
      "-481.68085\n",
      "(127395, 2)\n",
      "-446.76865\n",
      "(127395, 2)\n",
      "-414.0377\n",
      "(127395, 2)\n",
      "-383.35178\n",
      "(127395, 2)\n",
      "-354.58304\n",
      "(127395, 2)\n",
      "-327.6118\n",
      "(127395, 2)\n",
      "-302.32565\n",
      "(127395, 2)\n",
      "-278.61935\n",
      "(127395, 2)\n",
      "-256.39423\n",
      "(127395, 2)\n",
      "-235.5577\n",
      "(127395, 2)\n",
      "-216.02301\n",
      "(127395, 2)\n",
      "-197.70883\n",
      "(127395, 2)\n",
      "-180.5389\n",
      "(127395, 2)\n",
      "-164.44174\n",
      "(127395, 2)\n",
      "-149.3503\n",
      "(127395, 2)\n",
      "-135.20177\n",
      "(127395, 2)\n",
      "-121.937225\n",
      "(127395, 2)\n",
      "-109.50143\n",
      "(127395, 2)\n",
      "-97.84261\n",
      "(127395, 2)\n",
      "-86.91223\n",
      "(127395, 2)\n",
      "-76.664764\n",
      "(127395, 2)\n",
      "-67.05755\n",
      "(127395, 2)\n",
      "-58.050587\n",
      "(127395, 2)\n",
      "-49.60637\n",
      "(127395, 2)\n",
      "-41.689735\n",
      "(127395, 2)\n",
      "-34.267727\n",
      "(127395, 2)\n",
      "-27.309437\n",
      "(127395, 2)\n",
      "-20.785896\n",
      "(127395, 2)\n",
      "-14.669938\n",
      "(127395, 2)\n",
      "-8.9361\n",
      "(127395, 2)\n",
      "-3.5605056\n",
      "(127395, 2)\n",
      "-0.5\n",
      "(127395, 2)\n"
     ]
    }
   ],
   "source": [
    "feat_importance=[]\n",
    "coeffs = []\n",
    "intercepts = []\n",
    "rf_models=[]\n",
    "mlr_models=[]\n",
    "\n",
    "rf_test_mse_depth = []\n",
    "mlr_test_mse_depth = []\n",
    "div_test_mse_depth = []\n",
    "w_rms_test_depth = []\n",
    "    \n",
    "# loop over depths (train a separate RF model for each depth)\n",
    "for i in range(len(zc)):\n",
    "    print(zc[i])\n",
    "\n",
    "    # calculate divergence baseline\n",
    "    depth = -zc[i]\n",
    "    y_baseline = x0[:,4,:]*depth\n",
    "    y = np.hstack((y0[:,i,:],y_baseline)) # first column is actual w, second column is baseline\n",
    "    print(y.shape)\n",
    "    # train RF & MLR model\n",
    "    x_train, x_test, y_train, y_test = train_test_split(x0[:,:,0], y, test_size=0.25,random_state=0)\n",
    "    \n",
    "    rf_model, mlr_model = train_rf_mlr(x_train,y_train,random_state=0)\n",
    "    rf_models.append(rf_model)\n",
    "    mlr_models.append(mlr_model)\n",
    "    feat_importance.append(rf_model.feature_importances_)\n",
    "    coeffs.append(mlr_model.coef_)\n",
    "    intercepts.append(mlr_model.intercept_)\n",
    "    \n",
    "    # evaluation on test set\n",
    "    rf_test_mse, mlr_test_mse, div_test_mse, w_rms_test = test_rf_mlr(x_test, y_test,rf_model, mlr_model)\n",
    "    rf_test_mse_depth.append(rf_test_mse)\n",
    "    mlr_test_mse_depth.append(mlr_test_mse)\n",
    "    div_test_mse_depth.append(div_test_mse)\n",
    "    w_rms_test_depth.append(w_rms_test)"
   ]
  },
  {
   "cell_type": "code",
   "execution_count": 10,
   "metadata": {},
   "outputs": [
    {
     "data": {
      "text/plain": [
       "<matplotlib.legend.Legend at 0x7fe9df70cc10>"
      ]
     },
     "execution_count": 10,
     "metadata": {},
     "output_type": "execute_result"
    },
    {
     "data": {
      "image/png": "[encoded data removed]",
      "text/plain": [
       "<Figure size 432x288 with 1 Axes>"
      ]
     },
     "metadata": {
      "needs_background": "light"
     },
     "output_type": "display_data"
    }
   ],
   "source": [
    "#print(mlr_test_mse_depth[0]**0.5)\n",
    "#print(rf_test_mse_depth[0]**0.5)\n",
    "plt.plot(np.array(mlr_test_mse_depth)**0.5/np.array(w_rms_test_depth), zc,'b')\n",
    "plt.plot(np.array(rf_test_mse_depth)**0.5/np.array(w_rms_test_depth),zc,'r')\n",
    "plt.legend(['mlr','rf'])"
   ]
  },
  {
   "cell_type": "code",
   "execution_count": 11,
   "metadata": {},
   "outputs": [
    {
     "name": "stdout",
     "output_type": "stream",
     "text": [
      "[0.49830328 0.49700372 0.49443615 0.48704241 0.46001544 0.46027121\n",
      " 0.47424468 0.47904769 0.44085215 0.41787501 0.42047585 0.41784621\n",
      " 0.41218879 0.38999993 0.4044438  0.3862181  0.38007482 0.39953417\n",
      " 0.39339661 0.37849568 0.35432564 0.31638635 0.28083549 0.24229271\n",
      " 0.20518071 0.17079607 0.13610816 0.10799749 0.08842099 0.07838362\n",
      " 0.06662876 0.07416125]\n"
     ]
    }
   ],
   "source": [
    "print(np.array(rf_test_mse_depth)**0.5/np.array(w_rms_test_depth))"
   ]
  },
  {
   "cell_type": "markdown",
   "metadata": {},
   "source": [
    "## apply to separate day and plot"
   ]
  },
  {
   "cell_type": "code",
   "execution_count": 12,
   "metadata": {},
   "outputs": [],
   "source": [
    "with open('training_samples_mld_N2_1km/grad_rho_day5.pkl','rb') as f:\n",
    "    xd5, yd5 = pickle.load(f)"
   ]
  },
  {
   "cell_type": "code",
   "execution_count": 13,
   "metadata": {},
   "outputs": [
    {
     "name": "stdout",
     "output_type": "stream",
     "text": [
      "127395\n",
      "(9, 1)\n"
     ]
    }
   ],
   "source": [
    "print(len(xd5))\n",
    "print(xd5[0].shape)"
   ]
  },
  {
   "cell_type": "markdown",
   "metadata": {},
   "source": [
    "## loop over all depths"
   ]
  },
  {
   "cell_type": "code",
   "execution_count": null,
   "metadata": {},
   "outputs": [],
   "source": [
    "with open('trained_models/with_mld_n2/rf_model.pkl','rb') as f1:\n",
    "    model = pickle.load(f1)\n",
    "    \n",
    "rf_models = model['rf_models']\n",
    "mlr_models = model['mlr_models']"
   ]
  },
  {
   "cell_type": "code",
   "execution_count": 14,
   "metadata": {},
   "outputs": [],
   "source": [
    "day5_pred=[] # reshaped day 5 predictions for plotting\n",
    "mse_mlr_depth = []\n",
    "mse_rf_depth = []\n",
    "w_mse = []\n",
    "mse_div_depth = []\n",
    "\n",
    "for i in range(len(zc)):\n",
    "    X_newday = xd5[:,:8,0]\n",
    "\n",
    "    depth = -zc[i]\n",
    "    rf = rf_models[i]\n",
    "    mlr = mlr_models[i]\n",
    "    yd5_rf = rf_models[i].predict(X_newday)\n",
    "    yd5_div = xd5[:,4,:]*depth\n",
    "    yd5_mlr = mlr.predict(X_newday)\n",
    "\n",
    "    mse_rf = (mean_squared_error(yd5[:,i,:],yd5_rf))\n",
    "    mse_div = (mean_squared_error(yd5[:,i,:],yd5_div)) #baseline mse\n",
    "    mse_mlr = (mean_squared_error(yd5[:,i,:],yd5_mlr))\n",
    "    \n",
    "    w_mse.append(mean_squared_error(yd5[:,i,:],yd5[:,i,:]*0))\n",
    "    mse_rf_depth.append(mse_rf)\n",
    "    mse_mlr_depth.append(mse_mlr)\n",
    "    mse_div_depth.append(mse_div)"
   ]
  },
  {
   "cell_type": "code",
   "execution_count": 16,
   "metadata": {},
   "outputs": [],
   "source": [
    "#np.save('trained_models/with_mld_n2/mse_mlr.npy', np.array(mse_mlr_depth))\n",
    "#np.save('trained_models/with_mld_n2/mse_div_depth.npy', np.array(mse_div_depth))\n",
    "#np.save('trained_models/with_mld_n2/mse_rf.npy', np.array(mse_rf_depth))\n",
    "#np.save('trained_models/with_mld_n2/mse_w.npy', np.array(w_mse))"
   ]
  },
  {
   "cell_type": "code",
   "execution_count": 15,
   "metadata": {},
   "outputs": [
    {
     "name": "stdout",
     "output_type": "stream",
     "text": [
      "[0.0006996646778518234, 0.004262833568463352, 0.005822742288530177, 0.005127791430928081, 0.004481208201091089, 0.004196745892908543, 0.004013666202227949, 0.003991092395536126, 0.004275215709396037, 0.005028170468865819, 0.006056280128160634, 0.006918602350943689, 0.007873347253171388, 0.009798968863307746, 0.013969602221650671, 0.021545170818696304, 0.03301253634188902, 0.045661007636549886, 0.055230145245870776, 0.05955306994771231, 0.05792882661944347, 0.051163618933760896, 0.04108073105732096, 0.02946271296665989, 0.018157331568058696, 0.00976476906075763, 0.004815625960167194, 0.0021878520536855223, 0.0009114680022474311, 0.00029777165231032127, 3.211875977503845e-05, 1.4365641740712904e-07]\n"
     ]
    },
    {
     "data": {
      "text/plain": [
       "[<matplotlib.lines.Line2D at 0x7fe9640ef8d0>]"
      ]
     },
     "execution_count": 15,
     "metadata": {},
     "output_type": "execute_result"
    },
    {
     "data": {
      "image/png": "[encoded data removed]",
      "text/plain": [
       "<Figure size 432x288 with 1 Axes>"
      ]
     },
     "metadata": {
      "needs_background": "light"
     },
     "output_type": "display_data"
    }
   ],
   "source": [
    "print(mse_mlr_depth)\n",
    "plt.plot(mse_mlr_depth,zc)\n",
    "plt.plot(mse_rf_depth,zc)"
   ]
  },
  {
   "cell_type": "markdown",
   "metadata": {},
   "source": [
    "## feature importance"
   ]
  },
  {
   "cell_type": "code",
   "execution_count": 20,
   "metadata": {},
   "outputs": [],
   "source": [
    "# plot feature importance\n",
    "category_names = ['u', 'v',r'$\\zeta$', r'$\\Delta\\rho$', r'$\\nabla\\cdot\\vec{u}$',\n",
    "                  'MLD', '$N^2$',\n",
    "r'$\\frac{\\partial \\rho}{\\partial y}$']\n",
    "\n",
    "u_imp=[]\n",
    "v_imp=[]\n",
    "vor_imp=[]\n",
    "rho_imp=[]\n",
    "div_imp=[]\n",
    "mld_imp=[]\n",
    "n2_imp=[]\n",
    "drdy_imp=[]\n",
    "\n",
    "for f in feat_importance:\n",
    "    u_imp.append(f[0])\n",
    "    v_imp.append(f[1])\n",
    "    vor_imp.append(f[2])\n",
    "    rho_imp.append(f[3])\n",
    "    div_imp.append(f[4])\n",
    "    mld_imp.append(f[5])\n",
    "    n2_imp.append(f[6])\n",
    "    drdy_imp.append(f[7])\n",
    "    #drdx_imp.append(f[8])\n",
    "    \n",
    "var_importance = [u_imp, v_imp, vor_imp, rho_imp, div_imp, mld_imp,n2_imp,drdy_imp]"
   ]
  },
  {
   "cell_type": "code",
   "execution_count": 22,
   "metadata": {},
   "outputs": [
    {
     "data": {
      "image/png": "[encoded data removed]",
      "text/plain": [
       "<Figure size 288x504 with 1 Axes>"
      ]
     },
     "metadata": {
      "needs_background": "light"
     },
     "output_type": "display_data"
    }
   ],
   "source": [
    "savefigdir='/Users/jing/Desktop/'\n",
    "mld = x_train[:,5]\n",
    "x = np.arange(-1,2,0.1)\n",
    "x1 = np.ones(x.shape)\n",
    "upper_bound = np.percentile(mld,75,axis=0)*x1\n",
    "lower_bound = np.percentile(mld,25,axis=0)*x1\n",
    "\n",
    "#plt.plot(test_set_w_magnitude,depths,'-o')\n",
    "plt.figure(figsize=(4,7))\n",
    "for var in var_importance:\n",
    "    plt.plot(var,zc,linewidth=2)\n",
    "plt.hlines(np.median(mld),0,1,'gray',linewidth=1,linestyle='-')\n",
    "plt.fill_between(x, lower_bound, upper_bound, facecolor='gray', alpha=0.3,\n",
    "                label='1 sigma range')\n",
    "\n",
    "plt.legend(category_names,fontsize=14)\n",
    "#plt.legend(['u','v',r'$\\zeta$',r'$\\Delta\\rho$',r'$\\nabla_H\\cdot\\vec{u}$','MLD',r'$N^2_{peak}$'],fontsize=14)\n",
    "\n",
    "plt.xlim([0,1])\n",
    "plt.ylim([-480,0])\n",
    "plt.grid(True)\n",
    "#plt.legend(['with MLD and N2','without MLD or N2'])\n",
    "plt.ylabel('z (m)',fontsize='xx-large')\n",
    "plt.xlabel(r'importance',fontsize='xx-large')\n",
    "plt.tick_params(axis='both', which='major', labelsize=16)\n",
    "\n",
    "#plt.savefig(savefigdir+'feat_importance_withmld.pdf',bbox_inches='tight')\n"
   ]
  },
  {
   "cell_type": "markdown",
   "metadata": {},
   "source": [
    "## MLR coefficients"
   ]
  },
  {
   "cell_type": "code",
   "execution_count": 19,
   "metadata": {},
   "outputs": [
    {
     "name": "stdout",
     "output_type": "stream",
     "text": [
      "(95546, 8)\n"
     ]
    }
   ],
   "source": [
    "print(x_train.shape)"
   ]
  },
  {
   "cell_type": "code",
   "execution_count": 23,
   "metadata": {},
   "outputs": [],
   "source": [
    "u_coef=[]\n",
    "v_coef=[]\n",
    "vor_coef=[]\n",
    "rho_coef=[]\n",
    "div_coef=[]\n",
    "mld_coef=[]\n",
    "N2_coef=[]\n",
    "drho_coef = []\n",
    "\n",
    "for f in coeffs:\n",
    "    u_coef.append(f[0]*(np.sum(x_train[:,0]**2)/len(x_train[:,0]))**0.5)\n",
    "    v_coef.append(f[1]*(np.sum(x_train[:,1]**2)/len(x_train[:,0]))**0.5)\n",
    "    vor_coef.append(f[2]*(np.sum(x_train[:,2]**2)/len(x_train[:,0]))**0.5)\n",
    "    rho_coef.append(f[3]*(np.sum(x_train[:,3]**2)/len(x_train[:,0]))**0.5)\n",
    "    div_coef.append(f[4]*(np.sum(x_train[:,4]**2)/len(x_train[:,0]))**0.5)\n",
    "    mld_coef.append(f[5]*(np.sum(x_train[:,5]**2)/len(x_train[:,0]))**0.5)\n",
    "    N2_coef.append(f[6]*(np.sum(x_train[:,6]**2)/len(x_train[:,0]))**0.5)\n",
    "    drho_coef.append(f[7]*(np.sum(x_train[:,7]**2)/len(x_train[:,0]))**0.5)\n",
    "\n",
    "    #n2_coef.append(f[6]*(np.sum(x_train[:,6]**2)/len(x_train[:,0]))**0.5)\n",
    "    "
   ]
  },
  {
   "cell_type": "code",
   "execution_count": 25,
   "metadata": {},
   "outputs": [
    {
     "data": {
      "image/png": "[encoded data removed]",
      "text/plain": [
       "<Figure size 288x504 with 1 Axes>"
      ]
     },
     "metadata": {
      "needs_background": "light"
     },
     "output_type": "display_data"
    }
   ],
   "source": [
    "savefigdir='/Users/jing/Desktop/'\n",
    "\n",
    "plt.figure(figsize=(4,7))\n",
    "plt.plot(u_coef,zc,v_coef,zc,vor_coef,zc,rho_coef,zc,div_coef,zc,mld_coef,zc,N2_coef,zc,drho_coef,zc,linewidth=2)\n",
    "plt.plot(intercepts,zc,'--',linewidth=2,color='gray')\n",
    "plt.hlines(np.median(mld),-0.1,1.5,'gray',linewidth=1,linestyle='-')\n",
    "plt.fill_between(x, lower_bound, upper_bound, facecolor='gray', alpha=0.3,\n",
    "                label='1 sigma range')\n",
    "\n",
    "plt.legend(category_names+['intercept'],fontsize=14)\n",
    "\n",
    "plt.xlim([-0.1,0.35])\n",
    "plt.ylim([-482,0])\n",
    "plt.grid(True)\n",
    "#plt.legend(['with MLD and N2','without MLD or N2'])\n",
    "plt.ylabel('z (m)',fontsize='xx-large')\n",
    "plt.xlabel(r'size of term',fontsize='xx-large')\n",
    "plt.tick_params(axis='both', which='major', labelsize=16)\n",
    "\n",
    "#plt.savefig(savefigdir+'coefficient_withmld.pdf',bbox_inches='tight')\n"
   ]
  },
  {
   "cell_type": "code",
   "execution_count": null,
   "metadata": {},
   "outputs": [],
   "source": [
    "## normalize by wrms at each depth\n",
    "plt.figure(figsize=(4,7))\n",
    "plt.plot(np.array(u_coef)/w_rms_test_depth,zc,np.array(v_coef)/w_rms_test_depth,zc,\n",
    "         np.array(vor_coef)/w_rms_test_depth,zc,np.array(rho_coef)/w_rms_test_depth,zc,\n",
    "         np.array(div_coef)/w_rms_test_depth,zc,np.array(drho_coef)/w_rms_test_depth,zc,\n",
    "         linewidth=2)\n",
    "\n",
    "plt.plot(np.array(intercepts)/w_rms_test_depth,zc,'--',linewidth=2,color='gray')\n",
    "plt.hlines(np.median(mld),-1,1.5,'gray',linewidth=1,linestyle='-')\n",
    "plt.fill_between(x, lower_bound, upper_bound, facecolor='gray', alpha=0.3,\n",
    "                label='1 sigma range')\n",
    "\n",
    "plt.legend(category_names+['intercept'],fontsize=14)\n",
    "\n",
    "plt.xlim([-1,1.5])\n",
    "plt.ylim([-482,0])\n",
    "plt.grid(True)\n",
    "#plt.legend(['with MLD and N2','without MLD or N2'])\n",
    "plt.ylabel('z (m)',fontsize='xx-large')\n",
    "plt.xlabel(r'size of term',fontsize='xx-large')\n",
    "plt.tick_params(axis='both', which='major', labelsize=16)\n",
    "\n",
    "#plt.savefig(savefigdir+'coefficient_normalized.pdf',bbox_inches='tight')"
   ]
  },
  {
   "cell_type": "code",
   "execution_count": null,
   "metadata": {},
   "outputs": [],
   "source": [
    "## normalize by wrms at each depth\n",
    "plt.figure(figsize=(4,7))\n",
    "plt.plot(np.abs(np.array(u_coef)/w_rms_test_depth),zc,np.abs(np.array(v_coef)/w_rms_test_depth),zc,\n",
    "         np.abs(np.array(vor_coef)/w_rms_test_depth),zc,np.abs(np.array(rho_coef)/w_rms_test_depth),zc,\n",
    "         np.abs(np.array(div_coef)/w_rms_test_depth),zc,\n",
    "         np.abs(np.array(drho_coef)/w_rms_test_depth),zc,linewidth=2)\n",
    "\n",
    "plt.plot(np.abs(np.array(intercepts)/w_rms_test_depth),zc,'--',linewidth=2,color='gray')\n",
    "plt.hlines(np.median(mld),-1,1.5,'gray',linewidth=1,linestyle='-')\n",
    "plt.fill_between(x, lower_bound, upper_bound, facecolor='gray', alpha=0.3,\n",
    "                label='1 sigma range')\n",
    "\n",
    "plt.legend(['u','v',r'$\\zeta$',r'$\\Delta\\rho$',r'$\\nabla_H\\cdot\\vec{u}$','drho_dy','intercept'],fontsize=14)\n",
    "\n",
    "plt.xlim([0,1])\n",
    "plt.ylim([-482,0])\n",
    "plt.grid(True)\n",
    "#plt.legend(['with MLD and N2','without MLD or N2'])\n",
    "plt.ylabel('z (m)',fontsize='xx-large')\n",
    "plt.xlabel(r'size of term',fontsize='xx-large')\n",
    "plt.tick_params(axis='both', which='major', labelsize=16)\n",
    "\n",
    "#plt.savefig(savefigdir+'coefficient_normalized_absolute_value.pdf',bbox_inches='tight')"
   ]
  },
  {
   "cell_type": "markdown",
   "metadata": {},
   "source": [
    "### misc"
   ]
  },
  {
   "cell_type": "code",
   "execution_count": 26,
   "metadata": {},
   "outputs": [
    {
     "name": "stdout",
     "output_type": "stream",
     "text": [
      "-74.50927484271003\n",
      "-67.06476400000055\n",
      "-197.72301000000104\n",
      "-8.96993800000002\n",
      "37.95170383063892\n",
      "[-109.537225]\n",
      "[-41.70637]\n"
     ]
    }
   ],
   "source": [
    "mld = xd5[:,5]\n",
    "print(np.mean(mld))\n",
    "print(np.median(mld))\n",
    "print(np.min(mld))\n",
    "print(np.max(mld))\n",
    "print(np.std(mld))\n",
    "print(np.percentile(mld, 25, axis=0))\n",
    "print(np.percentile(mld, 75, axis=0))"
   ]
  },
  {
   "cell_type": "code",
   "execution_count": 27,
   "metadata": {},
   "outputs": [
    {
     "data": {
      "image/png": "[encoded data removed]",
      "text/plain": [
       "<Figure size 432x288 with 1 Axes>"
      ]
     },
     "metadata": {
      "needs_background": "light"
     },
     "output_type": "display_data"
    }
   ],
   "source": [
    "plt.hist(mld);"
   ]
  },
  {
   "cell_type": "markdown",
   "metadata": {},
   "source": [
    "# Save model"
   ]
  },
  {
   "cell_type": "code",
   "execution_count": 28,
   "metadata": {},
   "outputs": [],
   "source": [
    "## Save model\n",
    "model_save = {'inputs_label':category_names,\n",
    "              'rf_models':rf_models,\n",
    "              'mlr_models': mlr_models,\n",
    "              'feat_importance': var_importance,\n",
    "              'rf_test_mse': rf_test_mse_depth,\n",
    "              'mlr_test_mse': mlr_test_mse_depth,\n",
    "              'div_test_mse': div_test_mse_depth,\n",
    "              'w_rms_test': w_rms_test_depth,\n",
    "              'coeffs': coeffs,\n",
    "              'intercepts': intercepts,\n",
    "              'zc': zc,\n",
    "              'mld':mld}\n",
    "\n",
    "with open('trained_models/with_mld_n2/rf_model.pkl','wb') as f:\n",
    "    pickle.dump(model_save,f)"
   ]
  },
  {
   "cell_type": "code",
   "execution_count": null,
   "metadata": {},
   "outputs": [],
   "source": []
  }
 ],
 "metadata": {
  "kernelspec": {
   "display_name": "Python 3",
   "language": "python",
   "name": "python3"
  },
  "language_info": {
   "codemirror_mode": {
    "name": "ipython",
    "version": 3
   },
   "file_extension": ".py",
   "mimetype": "text/x-python",
   "name": "python",
   "nbconvert_exporter": "python",
   "pygments_lexer": "ipython3",
   "version": "3.7.5"
  }
 },
 "nbformat": 4,
 "nbformat_minor": 2
}
